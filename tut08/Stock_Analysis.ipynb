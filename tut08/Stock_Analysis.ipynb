{
 "cells": [
  {
   "cell_type": "markdown",
   "id": "af6038f0",
   "metadata": {},
   "source": [
    "# Stock Analysis"
   ]
  },
  {
   "cell_type": "markdown",
   "id": "fd6816b8",
   "metadata": {},
   "source": [
    "This notebook performs stock data analysis, including visualization, statistical analysis, moving averages, volatility analysis, and trend analysis."
   ]
  },
  {
   "cell_type": "code",
   "execution_count": null,
   "id": "7e979abe",
   "metadata": {},
   "outputs": [],
   "source": [
    "\n",
    "import pandas as pd\n",
    "import numpy as np\n",
    "import matplotlib.pyplot as plt\n",
    "import seaborn as sns\n",
    "\n",
    "# Load the dataset\n",
    "file_path = 'infy_stock.csv'\n",
    "df = pd.read_csv(file_path, parse_dates=['Date'])\n",
    "\n",
    "# Task 1: Load and Inspect the Data\n",
    "# Display the first 10 rows of the dataset\n",
    "df.head(10)\n"
   ]
  },
  {
   "cell_type": "code",
   "execution_count": null,
   "id": "d05290b4",
   "metadata": {},
   "outputs": [],
   "source": [
    "\n",
    "# Check for missing values\n",
    "missing_values = df.isnull().sum()\n",
    "missing_values\n"
   ]
  },
  {
   "cell_type": "markdown",
   "id": "92fce4b2",
   "metadata": {},
   "source": [
    "### Task 2: Data Visualization - Closing Price Over Time"
   ]
  },
  {
   "cell_type": "code",
   "execution_count": null,
   "id": "4477efea",
   "metadata": {},
   "outputs": [],
   "source": [
    "\n",
    "# Plot the closing price over time\n",
    "plt.figure(figsize=(10, 6))\n",
    "plt.plot(df['Date'], df['Close'], label='Closing Price', color='blue')\n",
    "plt.title('Closing Price Over Time')\n",
    "plt.xlabel('Date')\n",
    "plt.ylabel('Close Price (INR)')\n",
    "plt.xticks(rotation=45)\n",
    "plt.grid(True)\n",
    "plt.legend()\n",
    "plt.show()\n"
   ]
  },
  {
   "cell_type": "markdown",
   "id": "19d6c72a",
   "metadata": {},
   "source": [
    "### Task 3: Statistical Analysis"
   ]
  },
  {
   "cell_type": "code",
   "execution_count": null,
   "id": "513337f1",
   "metadata": {},
   "outputs": [],
   "source": [
    "\n",
    "# Calculate the daily return percentage\n",
    "df['Daily Return'] = ((df['Close'] - df['Open']) / df['Open']) * 100\n",
    "\n",
    "# Calculate average and median of daily returns\n",
    "average_return = df['Daily Return'].mean()\n",
    "median_return = df['Daily Return'].median()\n",
    "\n",
    "# Calculate the standard deviation of the closing prices\n",
    "std_dev_close = df['Close'].std()\n",
    "\n",
    "average_return, median_return, std_dev_close\n"
   ]
  },
  {
   "cell_type": "markdown",
   "id": "2cdd2d6b",
   "metadata": {},
   "source": [
    "### Task 4: Moving Averages"
   ]
  },
  {
   "cell_type": "code",
   "execution_count": null,
   "id": "bae19c9f",
   "metadata": {},
   "outputs": [],
   "source": [
    "\n",
    "# Calculate the 50-day and 200-day moving averages\n",
    "df['50-Day MA'] = df['Close'].rolling(window=50).mean()\n",
    "df['200-Day MA'] = df['Close'].rolling(window=200).mean()\n",
    "\n",
    "# Plot the moving averages\n",
    "plt.figure(figsize=(10, 6))\n",
    "plt.plot(df['Date'], df['Close'], label='Closing Price', color='blue')\n",
    "plt.plot(df['Date'], df['50-Day MA'], label='50-Day Moving Average', color='green')\n",
    "plt.plot(df['Date'], df['200-Day MA'], label='200-Day Moving Average', color='red')\n",
    "plt.title('50-day and 200-day Moving Averages')\n",
    "plt.xlabel('Date')\n",
    "plt.ylabel('Price (INR)')\n",
    "plt.xticks(rotation=45)\n",
    "plt.grid(True)\n",
    "plt.legend()\n",
    "plt.show()\n"
   ]
  },
  {
   "cell_type": "markdown",
   "id": "9aa659e9",
   "metadata": {},
   "source": [
    "### Task 5: Volatility Analysis"
   ]
  },
  {
   "cell_type": "code",
   "execution_count": null,
   "id": "51b04022",
   "metadata": {},
   "outputs": [],
   "source": [
    "\n",
    "# Calculate rolling 30-day standard deviation for volatility\n",
    "df['Volatility (30-Day)'] = df['Close'].rolling(window=30).std()\n",
    "\n",
    "# Plot volatility\n",
    "plt.figure(figsize=(10, 6))\n",
    "plt.plot(df['Date'], df['Volatility (30-Day)'], label='30-Day Volatility', color='purple')\n",
    "plt.title('Stock Volatility (30-Day Rolling Standard Deviation)')\n",
    "plt.xlabel('Date')\n",
    "plt.ylabel('Volatility')\n",
    "plt.xticks(rotation=45)\n",
    "plt.grid(True)\n",
    "plt.legend()\n",
    "plt.show()\n"
   ]
  },
  {
   "cell_type": "markdown",
   "id": "619b722d",
   "metadata": {},
   "source": [
    "### Task 6: Trend Analysis"
   ]
  },
  {
   "cell_type": "code",
   "execution_count": null,
   "id": "07e51f8e",
   "metadata": {},
   "outputs": [],
   "source": [
    "\n",
    "# Identify Bullish and Bearish trends (when 50-Day MA > 200-Day MA = Bullish, otherwise Bearish)\n",
    "df['Trend'] = np.where(df['50-Day MA'] > df['200-Day MA'], 'Bullish', 'Bearish')\n",
    "\n",
    "# Mark bullish and bearish trends\n",
    "plt.figure(figsize=(10, 6))\n",
    "plt.plot(df['Date'], df['Close'], label='Closing Price', color='blue')\n",
    "\n",
    "bullish = df[df['Trend'] == 'Bullish']\n",
    "bearish = df[df['Trend'] == 'Bearish']\n",
    "\n",
    "plt.scatter(bullish['Date'], bullish['Close'], label='Bullish', color='green', marker='^', alpha=0.8)\n",
    "plt.scatter(bearish['Date'], bearish['Close'], label='Bearish', color='red', marker='v', alpha=0.8)\n",
    "\n",
    "plt.title('Bullish and Bearish Trends')\n",
    "plt.xlabel('Date')\n",
    "plt.ylabel('Price (INR)')\n",
    "plt.xticks(rotation=45)\n",
    "plt.grid(True)\n",
    "plt.legend()\n",
    "plt.show()\n"
   ]
  }
 ],
 "metadata": {},
 "nbformat": 4,
 "nbformat_minor": 5
}
